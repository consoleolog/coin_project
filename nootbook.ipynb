{
 "cells": [
  {
   "metadata": {
    "ExecuteTime": {
     "end_time": "2024-07-10T05:55:12.052620Z",
     "start_time": "2024-07-10T05:52:42.044244Z"
    }
   },
   "cell_type": "code",
   "source": [
    "import pyupbit\n",
    "import time\n",
    "import os\n",
    "import pandas as pd\n",
    "from dotenv import load_dotenv\n",
    "from upbit_module import *\n",
    "\n",
    "load_dotenv()\n",
    "\n",
    "access_key = os.environ['ACCESS_KEY']\n",
    "secret_key = os.environ['SECRET_KEY']\n",
    "\n",
    "ticker = \"KRW-BTC\"\n",
    "\n",
    "current_time = time.strftime('%Y-%m-%d%H:%M:%S', time.localtime(time.time()))\n",
    "\n",
    "\n",
    "df = pyupbit.get_ohlcv(ticker, interval=\"minute1\", count=172800)\n",
    "df['rolling20'] = int(df['close'].rolling(28800).mean())\n",
    "df['rolling60'] = int(df['close'].rolling(86400).mean())\n",
    "df['rolling120'] = int(df['close'].rolling(172800).mean())\n"
   ],
   "id": "8a29b2f010398912",
   "outputs": [
    {
     "ename": "TypeError",
     "evalue": "cannot convert the series to <class 'int'>",
     "output_type": "error",
     "traceback": [
      "\u001B[0;31m---------------------------------------------------------------------------\u001B[0m",
      "\u001B[0;31mTypeError\u001B[0m                                 Traceback (most recent call last)",
      "Cell \u001B[0;32mIn[1], line 19\u001B[0m\n\u001B[1;32m     15\u001B[0m current_time \u001B[38;5;241m=\u001B[39m time\u001B[38;5;241m.\u001B[39mstrftime(\u001B[38;5;124m'\u001B[39m\u001B[38;5;124m%\u001B[39m\u001B[38;5;124mY-\u001B[39m\u001B[38;5;124m%\u001B[39m\u001B[38;5;124mm-\u001B[39m\u001B[38;5;132;01m%d\u001B[39;00m\u001B[38;5;124m%\u001B[39m\u001B[38;5;124mH:\u001B[39m\u001B[38;5;124m%\u001B[39m\u001B[38;5;124mM:\u001B[39m\u001B[38;5;124m%\u001B[39m\u001B[38;5;124mS\u001B[39m\u001B[38;5;124m'\u001B[39m, time\u001B[38;5;241m.\u001B[39mlocaltime(time\u001B[38;5;241m.\u001B[39mtime()))\n\u001B[1;32m     18\u001B[0m df \u001B[38;5;241m=\u001B[39m pyupbit\u001B[38;5;241m.\u001B[39mget_ohlcv(ticker, interval\u001B[38;5;241m=\u001B[39m\u001B[38;5;124m\"\u001B[39m\u001B[38;5;124mminute1\u001B[39m\u001B[38;5;124m\"\u001B[39m, count\u001B[38;5;241m=\u001B[39m\u001B[38;5;241m172800\u001B[39m)\n\u001B[0;32m---> 19\u001B[0m df[\u001B[38;5;124m'\u001B[39m\u001B[38;5;124mrolling20\u001B[39m\u001B[38;5;124m'\u001B[39m] \u001B[38;5;241m=\u001B[39m \u001B[38;5;28;43mint\u001B[39;49m\u001B[43m(\u001B[49m\u001B[43mdf\u001B[49m\u001B[43m[\u001B[49m\u001B[38;5;124;43m'\u001B[39;49m\u001B[38;5;124;43mclose\u001B[39;49m\u001B[38;5;124;43m'\u001B[39;49m\u001B[43m]\u001B[49m\u001B[38;5;241;43m.\u001B[39;49m\u001B[43mrolling\u001B[49m\u001B[43m(\u001B[49m\u001B[38;5;241;43m28800\u001B[39;49m\u001B[43m)\u001B[49m\u001B[38;5;241;43m.\u001B[39;49m\u001B[43mmean\u001B[49m\u001B[43m(\u001B[49m\u001B[43m)\u001B[49m\u001B[43m)\u001B[49m\n\u001B[1;32m     20\u001B[0m df[\u001B[38;5;124m'\u001B[39m\u001B[38;5;124mrolling60\u001B[39m\u001B[38;5;124m'\u001B[39m] \u001B[38;5;241m=\u001B[39m \u001B[38;5;28mint\u001B[39m(df[\u001B[38;5;124m'\u001B[39m\u001B[38;5;124mclose\u001B[39m\u001B[38;5;124m'\u001B[39m]\u001B[38;5;241m.\u001B[39mrolling(\u001B[38;5;241m86400\u001B[39m)\u001B[38;5;241m.\u001B[39mmean())\n\u001B[1;32m     21\u001B[0m df[\u001B[38;5;124m'\u001B[39m\u001B[38;5;124mrolling120\u001B[39m\u001B[38;5;124m'\u001B[39m] \u001B[38;5;241m=\u001B[39m \u001B[38;5;28mint\u001B[39m(df[\u001B[38;5;124m'\u001B[39m\u001B[38;5;124mclose\u001B[39m\u001B[38;5;124m'\u001B[39m]\u001B[38;5;241m.\u001B[39mrolling(\u001B[38;5;241m172800\u001B[39m)\u001B[38;5;241m.\u001B[39mmean())\n",
      "File \u001B[0;32m~/miniconda3/envs/coin/lib/python3.10/site-packages/pandas/core/series.py:248\u001B[0m, in \u001B[0;36m_coerce_method.<locals>.wrapper\u001B[0;34m(self)\u001B[0m\n\u001B[1;32m    240\u001B[0m     warnings\u001B[38;5;241m.\u001B[39mwarn(\n\u001B[1;32m    241\u001B[0m         \u001B[38;5;124mf\u001B[39m\u001B[38;5;124m\"\u001B[39m\u001B[38;5;124mCalling \u001B[39m\u001B[38;5;132;01m{\u001B[39;00mconverter\u001B[38;5;241m.\u001B[39m\u001B[38;5;18m__name__\u001B[39m\u001B[38;5;132;01m}\u001B[39;00m\u001B[38;5;124m on a single element Series is \u001B[39m\u001B[38;5;124m\"\u001B[39m\n\u001B[1;32m    242\u001B[0m         \u001B[38;5;124m\"\u001B[39m\u001B[38;5;124mdeprecated and will raise a TypeError in the future. \u001B[39m\u001B[38;5;124m\"\u001B[39m\n\u001B[0;32m   (...)\u001B[0m\n\u001B[1;32m    245\u001B[0m         stacklevel\u001B[38;5;241m=\u001B[39mfind_stack_level(),\n\u001B[1;32m    246\u001B[0m     )\n\u001B[1;32m    247\u001B[0m     \u001B[38;5;28;01mreturn\u001B[39;00m converter(\u001B[38;5;28mself\u001B[39m\u001B[38;5;241m.\u001B[39miloc[\u001B[38;5;241m0\u001B[39m])\n\u001B[0;32m--> 248\u001B[0m \u001B[38;5;28;01mraise\u001B[39;00m \u001B[38;5;167;01mTypeError\u001B[39;00m(\u001B[38;5;124mf\u001B[39m\u001B[38;5;124m\"\u001B[39m\u001B[38;5;124mcannot convert the series to \u001B[39m\u001B[38;5;132;01m{\u001B[39;00mconverter\u001B[38;5;132;01m}\u001B[39;00m\u001B[38;5;124m\"\u001B[39m)\n",
      "\u001B[0;31mTypeError\u001B[0m: cannot convert the series to <class 'int'>"
     ]
    }
   ],
   "execution_count": 1
  },
  {
   "metadata": {},
   "cell_type": "code",
   "outputs": [],
   "execution_count": null,
   "source": "",
   "id": "b89795911b47a2fa"
  }
 ],
 "metadata": {
  "kernelspec": {
   "display_name": "Python 3",
   "language": "python",
   "name": "python3"
  },
  "language_info": {
   "codemirror_mode": {
    "name": "ipython",
    "version": 2
   },
   "file_extension": ".py",
   "mimetype": "text/x-python",
   "name": "python",
   "nbconvert_exporter": "python",
   "pygments_lexer": "ipython2",
   "version": "2.7.6"
  }
 },
 "nbformat": 4,
 "nbformat_minor": 5
}
